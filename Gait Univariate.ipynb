{
 "cells": [
  {
   "cell_type": "code",
   "execution_count": 3,
   "id": "08e4f455-239b-4d94-bde0-585d3168b2f3",
   "metadata": {
    "tags": []
   },
   "outputs": [
    {
     "data": {
      "application/vnd.jupyter.widget-view+json": {
       "model_id": "eac707d1dd444274b7a0e49752e7a381",
       "version_major": 2,
       "version_minor": 0
      },
      "text/plain": [
       "Dropdown(description='Subject:', options=(1, 2, 3, 4, 5, 6, 7, 8, 9, 10), value=None)"
      ]
     },
     "metadata": {},
     "output_type": "display_data"
    },
    {
     "data": {
      "application/vnd.jupyter.widget-view+json": {
       "model_id": "e02813e5d704450781f1b9e79f2f17aa",
       "version_major": 2,
       "version_minor": 0
      },
      "text/plain": [
       "Dropdown(description='Leg:', options=(('Left', 1), ('Right', 2)), value=None)"
      ]
     },
     "metadata": {},
     "output_type": "display_data"
    },
    {
     "data": {
      "application/vnd.jupyter.widget-view+json": {
       "model_id": "222dfe76b98c4d03a0e38cf0af0adfdd",
       "version_major": 2,
       "version_minor": 0
      },
      "text/plain": [
       "Dropdown(description='Joint:', options=(('Ankle', 1), ('Knee', 2), ('Hip', 3)), value=None)"
      ]
     },
     "metadata": {},
     "output_type": "display_data"
    },
    {
     "data": {
      "application/vnd.jupyter.widget-view+json": {
       "model_id": "f8d5fcb5695f442bb412198d233f1d51",
       "version_major": 2,
       "version_minor": 0
      },
      "text/plain": [
       "Dropdown(description='Condition:', options=(('Unbraced', 1), ('Knee Brace', 2), ('Ankle Brace', 3)), value=Non…"
      ]
     },
     "metadata": {},
     "output_type": "display_data"
    },
    {
     "data": {
      "application/vnd.jupyter.widget-view+json": {
       "model_id": "ac014e585a5b4411b7aff6efd8b5b69a",
       "version_major": 2,
       "version_minor": 0
      },
      "text/plain": [
       "IntSlider(value=50, description='Max Lag:', min=10)"
      ]
     },
     "metadata": {},
     "output_type": "display_data"
    },
    {
     "data": {
      "application/vnd.jupyter.widget-view+json": {
       "model_id": "994d98a9a71f40a4acd095d2f7accfa4",
       "version_major": 2,
       "version_minor": 0
      },
      "text/plain": [
       "IntSlider(value=10, description='Max Dim:', max=20, min=1)"
      ]
     },
     "metadata": {},
     "output_type": "display_data"
    },
    {
     "data": {
      "application/vnd.jupyter.widget-view+json": {
       "model_id": "750649b1834f491990f8a99524a5640c",
       "version_major": 2,
       "version_minor": 0
      },
      "text/plain": [
       "FloatSlider(value=0.25, description='RP Threshold:', max=1.0, min=0.1, step=0.01)"
      ]
     },
     "metadata": {},
     "output_type": "display_data"
    },
    {
     "data": {
      "application/vnd.jupyter.widget-view+json": {
       "model_id": "23f8b2dd7c0348c491c33b069fe95853",
       "version_major": 2,
       "version_minor": 0
      },
      "text/plain": [
       "FloatSlider(value=0.1, description='FNN Threshold:', max=0.2, min=0.01, step=0.01)"
      ]
     },
     "metadata": {},
     "output_type": "display_data"
    },
    {
     "data": {
      "application/vnd.jupyter.widget-view+json": {
       "model_id": "6d007dbb1fc74b61b23b084d1d81b782",
       "version_major": 2,
       "version_minor": 0
      },
      "text/plain": [
       "Button(description='Run Analysis', style=ButtonStyle())"
      ]
     },
     "metadata": {},
     "output_type": "display_data"
    }
   ],
   "source": [
    "import numpy as np\n",
    "import pandas as pd\n",
    "import matplotlib.pyplot as plt\n",
    "import os\n",
    "import io\n",
    "from collections import Counter\n",
    "from itertools import groupby\n",
    "import ipywidgets as widgets\n",
    "from sklearn.preprocessing import MinMaxScaler\n",
    "from sklearn.metrics import pairwise_distances\n",
    "from nolitsa import delay, dimension, noise, utils\n",
    "\n",
    "gait_data = pd.read_csv(\"gait.csv\")\n",
    "lag_slider = widgets.IntSlider(value=50, min=10, max=100, step=1, description='Max Lag:')\n",
    "dim_slider = widgets.IntSlider(value=10, min=1, max=20, step=1, description='Max Dim:')\n",
    "rp_threshold_slider = widgets.FloatSlider(value=0.25, min=0.1, max=1.0, step=0.01, description='RP Threshold:')\n",
    "fnn_threshold_slider = widgets.FloatSlider(value=0.10, min=0.01, max=0.2, step=0.01, description='FNN Threshold:')\n",
    "subject_dropdown = widgets.Dropdown(options=[], description='Subject:')\n",
    "leg_dropdown = widgets.Dropdown(options=[], description='Leg:')\n",
    "joint_dropdown = widgets.Dropdown(options=[], description='Joint:')\n",
    "condition_dropdown = widgets.Dropdown(options=[], description='Condition:')\n",
    "\n",
    "def create_dropdown_widgets():\n",
    "    subjects = sorted(gait_data['subject'].unique())\n",
    "    legs = sorted(gait_data['leg'].unique())\n",
    "    joints = sorted(gait_data['joint'].unique())\n",
    "    conditions = sorted(gait_data['condition'].unique())\n",
    "    \n",
    "    leg_desc = {1: 'Left', 2: 'Right'}\n",
    "    joint_desc = {1: 'Ankle', 2: 'Knee', 3: 'Hip'}\n",
    "    condition_desc = {1: 'Unbraced', 2: 'Knee Brace', 3: 'Ankle Brace'}\n",
    "\n",
    "    leg_options = [(leg_desc[leg], leg) for leg in legs]\n",
    "    joint_options = [(joint_desc[joint], joint) for joint in joints]\n",
    "    condition_options = [(condition_desc[condition], condition) for condition in conditions]\n",
    "\n",
    "    subject_dropdown.options = subjects\n",
    "    leg_dropdown.options = leg_options\n",
    "    joint_dropdown.options = joint_options\n",
    "    condition_dropdown.options = condition_options\n",
    "    \n",
    "    display(subject_dropdown, leg_dropdown, joint_dropdown, condition_dropdown)\n",
    "\n",
    "def load_and_preprocess_data(gait_data, subject, leg, joint, condition):\n",
    "    \n",
    "    data_filtered = gait_data[\n",
    "        (gait_data['subject'] == subject) & \n",
    "        (gait_data['leg'] == leg) &\n",
    "        (gait_data['joint'] == joint) &\n",
    "        (gait_data['condition'] == condition)]\n",
    "    \n",
    "    data_filtered = data_filtered[['angle']].dropna()\n",
    "    scaler = MinMaxScaler()\n",
    "    data_normalized = pd.DataFrame(scaler.fit_transform(data_filtered), columns=['angle'])\n",
    "    \n",
    "    return data_normalized\n",
    "\n",
    "def localmin(variable):\n",
    "    return (np.diff(np.sign(np.diff(variable))) > 0).nonzero()[0] + 1\n",
    "\n",
    "def binscalc(data):\n",
    "    return int(np.ceil(np.sqrt(len(data))))\n",
    "\n",
    "def calculate_mi(data, max_lag):\n",
    "    bin_size = binscalc(data)\n",
    "    mi_values = delay.dmi(data, maxtau=max_lag, bins=bin_size)\n",
    "    return noise.sma(mi_values, hwin=1)\n",
    "\n",
    "def find_first_local_min(smoothed_mi):\n",
    "    local_minima_indices = localmin(smoothed_mi)\n",
    "    return (local_minima_indices + 1)[0] if local_minima_indices.size > 0 else None\n",
    "\n",
    "def estimate_optimal_ac_delay(data):\n",
    "    return np.argmax(delay.acorr(data) < 1.0 / np.e)\n",
    "\n",
    "def estimate_optimal_delay(data, max_lag):\n",
    "    smoothed_mi = calculate_mi(data, max_lag)\n",
    "    optimal_mi_delay = find_first_local_min(smoothed_mi)\n",
    "    optimal_ac_delay = estimate_optimal_ac_delay(data)\n",
    "    return optimal_mi_delay, optimal_ac_delay, smoothed_mi\n",
    "\n",
    "def estimate_embedding_dimension(data, optimal_mi_delay, optimal_ac_delay, max_dim, fnn_threshold):\n",
    "    dimensions = np.arange(1, max_dim + 1)\n",
    "    F1, F2, F3 = dimension.fnn(data, tau=optimal_mi_delay, dim=dimensions, window=optimal_ac_delay, metric='euclidean')\n",
    "    embedding_dimension = next((d for d, f in zip(dimensions, F1) if f < fnn_threshold), None)\n",
    "    return embedding_dimension, dimensions, F1\n",
    "\n",
    "def phase_space_reconstruction(data, embedding_dimension, optimal_mi_delay):\n",
    "    reconstructed_vector = utils.reconstruct(data[:, 0], embedding_dimension, int(optimal_mi_delay))\n",
    "    return reconstructed_vector\n",
    "\n",
    "def plot_mi(mi_values, results_folder):\n",
    "    fig, ax = plt.subplots(figsize=(10, 5))\n",
    "    ax.plot(mi_values, label='MI')\n",
    "    ax.set_title('Mutual Information')\n",
    "    ax.set_xlabel('Lag')\n",
    "    ax.set_ylabel('MI')\n",
    "    ax.legend()\n",
    "    save_plot(results_folder, 'mutual_information_plot.png')\n",
    "    plt.show()\n",
    "\n",
    "def plot_fnn(fnn_values, dimensions, results_folder):\n",
    "    fig, ax = plt.subplots(figsize=(10, 5))\n",
    "    ax.plot(dimensions, fnn_values, label='FNN')\n",
    "    ax.set_title('False Nearest Neighbors')\n",
    "    ax.set_xlabel('Embedding Dimension')\n",
    "    ax.set_ylabel('FNN')\n",
    "    ax.legend()\n",
    "    save_plot(results_folder, 'fnn_plot.png')\n",
    "    plt.show()\n",
    "\n",
    "def plot_phase_space(reconstructed, embedding_dimension, results_folder):\n",
    "    fig = plt.figure(figsize=(20, 10))\n",
    "\n",
    "    ax1 = fig.add_subplot(121)\n",
    "    ax1.plot(reconstructed[:, 0], reconstructed[:, 1], color='blue')\n",
    "    ax1.set_title('2D Phase Space Reconstruction')\n",
    "    ax1.set_xlabel('x(t)')\n",
    "    ax1.set_ylabel('x(t + τ)')\n",
    "    \n",
    "    if embedding_dimension >= 3:\n",
    "        ax2 = fig.add_subplot(122, projection='3d')\n",
    "        ax2.plot(reconstructed[:, 0], reconstructed[:, 1], reconstructed[:, 2], color='red')\n",
    "        ax2.set_title('3D Phase Space Reconstruction')\n",
    "        ax2.set_xlabel('x(t)')\n",
    "        ax2.set_ylabel('x(t + τ)')\n",
    "        ax2.set_zlabel('x(t + 2τ)')\n",
    "\n",
    "    save_plot(results_folder, 'phase_space_plot.png')\n",
    "    plt.show()\n",
    "\n",
    "def plot_recurrence_plot(rp_matrix, results_folder):\n",
    "    plt.figure(figsize=(10, 10))\n",
    "    plt.imshow(rp_matrix, cmap='binary', origin='lower')\n",
    "    plt.title('Recurrence Plot')\n",
    "    plt.xlabel('Time')\n",
    "    plt.ylabel('Time')\n",
    "    save_plot(results_folder, 'recurrence_plot.png')\n",
    "    plt.show()\n",
    "\n",
    "def save_plot(folder, filename):\n",
    "    if not os.path.exists(folder):\n",
    "        os.makedirs(folder)\n",
    "    plt.savefig(os.path.join(folder, filename))\n",
    "\n",
    "def compute_recurrence_plot(data, rp_threshold):\n",
    "    distances = pairwise_distances(data)\n",
    "    return distances < rp_threshold\n",
    "\n",
    "def compute_histograms(M, n):\n",
    "    diag_hist = np.zeros(n+1)\n",
    "    vert_hist = np.zeros(n+1)\n",
    "\n",
    "    for i in range(n):\n",
    "        diag_counter = 0\n",
    "        vert_counter = 0\n",
    "        for j in range(n-i):\n",
    "            if M[i+j][j] == 1:\n",
    "                diag_counter += 1\n",
    "            else:\n",
    "                if diag_counter > 0:\n",
    "                    diag_hist[diag_counter] += 2 \n",
    "                    diag_counter = 0\n",
    "\n",
    "            if M[j][i] == 1:\n",
    "                vert_counter += 1\n",
    "            else:\n",
    "                if vert_counter > 0:\n",
    "                    vert_hist[vert_counter] += 1\n",
    "                    vert_counter = 0\n",
    "\n",
    "        if diag_counter > 0:\n",
    "            diag_hist[diag_counter] += 2\n",
    "        if vert_counter > 0:\n",
    "            vert_hist[vert_counter] += 1\n",
    "\n",
    "    diag_hist[n] /= 2\n",
    "\n",
    "    return diag_hist, vert_hist\n",
    "\n",
    "def compute_average(hst, min_line_length, n):\n",
    "    numerator = sum(i * hst[i] for i in range(min_line_length, n+1))\n",
    "    denominator = sum(hst[i] for i in range(min_line_length, n+1))\n",
    "    return numerator / (denominator if denominator > 0 else 1)\n",
    "\n",
    "def compute_entropy(hst, min_line_length, n):\n",
    "    total = sum(hst[min_line_length:n+1])\n",
    "    if total > 0:\n",
    "        return -sum((hst[i]/total) * np.log(hst[i]/total) for i in range(min_line_length, n+1) if hst[i] != 0)\n",
    "    else:\n",
    "        return 0\n",
    "\n",
    "def compute_max_line_length(hst, n):\n",
    "    return max((i for i in range(1, n+1) if hst[i] != 0), default=1)\n",
    "\n",
    "def compute_rqa_measures(rp_matrix, min_line_length=2):\n",
    "    n = rp_matrix.shape[0]\n",
    "\n",
    "    diag_hist, vert_hist = compute_histograms(rp_matrix, n)\n",
    "\n",
    "    rec = np.sum(rp_matrix) / n**2 * 100\n",
    "    mean_l = compute_average(diag_hist, min_line_length, n)\n",
    "    entr_l = compute_entropy(diag_hist, min_line_length, n)\n",
    "    mean_v = compute_average(vert_hist, min_line_length, n)\n",
    "    max_v = compute_max_line_length(vert_hist, n)\n",
    "    entr_v = compute_entropy(vert_hist, min_line_length, n)\n",
    "\n",
    "    rqa_measures =  {\n",
    "        'Length of Time Series': n,\n",
    "        'Percentage of Recurrent Points (%REC)': rec,\n",
    "        'Avarage Diagonal Line Length (MeanL)': mean_l,\n",
    "        'Diagonal Line Entropy (EntrL)': entr_l,\n",
    "        'Avarage Vertical Line Length (MeanV)': mean_v,\n",
    "        'Max Vertical Line Length (MaxV)': max_v,\n",
    "        'Vertical Line Entropy (EntrV)': entr_v,\n",
    "    }\n",
    "\n",
    "    return rqa_measures\n",
    "\n",
    "def execute_analysis(btn):\n",
    "    MAX_LAG = lag_slider.value\n",
    "    MAX_DIM = dim_slider.value\n",
    "    RP_THRESHOLD = rp_threshold_slider.value\n",
    "    FNN_THRESHOLD = fnn_threshold_slider.value\n",
    "\n",
    "    print(f\"Max Lag: {MAX_LAG}\")\n",
    "    print(f\"Max Dim: {MAX_DIM}\")\n",
    "    print(f\"RP Threshold: {RP_THRESHOLD}\")\n",
    "    print(f\"FNN Threshold: {FNN_THRESHOLD}\")\n",
    "\n",
    "    folder_name = f\"subject_{subject_dropdown.value}_leg_{leg_dropdown.value}_joint_{joint_dropdown.value}_condition_{condition_dropdown.value}\"\n",
    "    results_folder = os.path.join('gait_results', folder_name)\n",
    "    data_normalized = load_and_preprocess_data(gait_data, subject_dropdown.value, leg_dropdown.value, joint_dropdown.value, condition_dropdown.value)\n",
    "    optimal_mi_delay, optimal_ac_delay, mi_values = estimate_optimal_delay(data_normalized.values.flatten(), MAX_LAG)\n",
    "\n",
    "    embedding_dimension, _, fnn_values = estimate_embedding_dimension(\n",
    "        data_normalized.values.flatten(), optimal_mi_delay, optimal_ac_delay, MAX_DIM, FNN_THRESHOLD\n",
    "    )\n",
    "    print(f\"Optimal Delay: {optimal_mi_delay}\")\n",
    "    print(f\"Embedding Dimension: {embedding_dimension}\")\n",
    "\n",
    "    reconstructed = phase_space_reconstruction(data_normalized.values, embedding_dimension, optimal_mi_delay)\n",
    "\n",
    "    rp_matrix = compute_recurrence_plot(reconstructed, RP_THRESHOLD)\n",
    "    rqa_measures = compute_rqa_measures(rp_matrix)\n",
    "    \n",
    "    print(\"\\nRQA measures\")\n",
    "    for key, value in rqa_measures.items():\n",
    "        if '(%REC)' in key:\n",
    "            formatted_value = f\"{value:.2f}%\"\n",
    "        else:\n",
    "            formatted_value = round(value, 2)\n",
    "        print(f\"{key}: {formatted_value}\")\n",
    "\n",
    "    plot_mi(mi_values, results_folder)\n",
    "    plot_fnn(fnn_values, np.arange(1, MAX_DIM + 1), results_folder)\n",
    "    plot_phase_space(reconstructed, embedding_dimension, results_folder)\n",
    "    plot_recurrence_plot(rp_matrix, results_folder)\n",
    "\n",
    "    if not os.path.exists(results_folder):\n",
    "        os.makedirs(results_folder)\n",
    "    measures_df = pd.DataFrame.from_dict(rqa_measures, orient='index', columns=['Value'])\n",
    "    measures_df.to_csv(os.path.join(results_folder, 'measures.csv'))\n",
    "    \n",
    "run_analysis_button = widgets.Button(description=\"Run Analysis\")\n",
    "run_analysis_button.on_click(execute_analysis)\n",
    "\n",
    "create_dropdown_widgets()\n",
    "display_widgets = [\n",
    "    lag_slider,\n",
    "    dim_slider,\n",
    "    rp_threshold_slider,\n",
    "    fnn_threshold_slider,\n",
    "    run_analysis_button\n",
    "]\n",
    "\n",
    "\n",
    "for widget in display_widgets:\n",
    "    display(widget)"
   ]
  },
  {
   "cell_type": "code",
   "execution_count": null,
   "id": "8acf4faa-dbab-4eeb-9a65-cf106ab2fd36",
   "metadata": {},
   "outputs": [],
   "source": []
  }
 ],
 "metadata": {
  "kernelspec": {
   "display_name": "Python 3 (ipykernel)",
   "language": "python",
   "name": "python3"
  },
  "language_info": {
   "codemirror_mode": {
    "name": "ipython",
    "version": 3
   },
   "file_extension": ".py",
   "mimetype": "text/x-python",
   "name": "python",
   "nbconvert_exporter": "python",
   "pygments_lexer": "ipython3",
   "version": "3.11.4"
  },
  "widgets": {
   "application/vnd.jupyter.widget-state+json": {
    "state": {
     "00be1c1a0682400abe779affc6bf2219": {
      "model_module": "@jupyter-widgets/controls",
      "model_module_version": "2.0.0",
      "model_name": "ButtonStyleModel",
      "state": {
       "font_family": null,
       "font_size": null,
       "font_style": null,
       "font_variant": null,
       "font_weight": null,
       "text_color": null,
       "text_decoration": null
      }
     },
     "03cf99eca7d94c1fa0fc1fc2564c3a46": {
      "model_module": "@jupyter-widgets/base",
      "model_module_version": "2.0.0",
      "model_name": "LayoutModel",
      "state": {}
     },
     "043834463bca492f8b921ff0e5ccf2c6": {
      "model_module": "@jupyter-widgets/controls",
      "model_module_version": "2.0.0",
      "model_name": "FloatSliderModel",
      "state": {
       "behavior": "drag-tap",
       "description": "RP Threshold:",
       "layout": "IPY_MODEL_9a9d2b2a5e0e4404b415669ebb2ca513",
       "max": 1,
       "min": 0.1,
       "step": 0.01,
       "style": "IPY_MODEL_28a0e61f73c94fee8cc78e9df0eea30b",
       "value": 0.25
      }
     },
     "08e7736e136b469b99d505ce3cabb23a": {
      "model_module": "@jupyter-widgets/controls",
      "model_module_version": "2.0.0",
      "model_name": "SliderStyleModel",
      "state": {
       "description_width": ""
      }
     },
     "0e5471571fd34c35a249fb2214934088": {
      "model_module": "@jupyter-widgets/controls",
      "model_module_version": "2.0.0",
      "model_name": "DropdownModel",
      "state": {
       "_options_labels": [
        "Unbraced",
        "Knee Brace",
        "Ankle Brace"
       ],
       "description": "Condition:",
       "index": 0,
       "layout": "IPY_MODEL_3904ec83adf04928ab9a724f88da7241",
       "style": "IPY_MODEL_8d3c9970e0a147eabdf7b0f6812dc814"
      }
     },
     "0ec04779445745d68edaeef6e0ab20d5": {
      "model_module": "@jupyter-widgets/controls",
      "model_module_version": "2.0.0",
      "model_name": "ButtonStyleModel",
      "state": {
       "font_family": null,
       "font_size": null,
       "font_style": null,
       "font_variant": null,
       "font_weight": null,
       "text_color": null,
       "text_decoration": null
      }
     },
     "0ff3b4c646b44bcdb28464edaf096881": {
      "model_module": "@jupyter-widgets/controls",
      "model_module_version": "2.0.0",
      "model_name": "DescriptionStyleModel",
      "state": {
       "description_width": ""
      }
     },
     "167b977d7f0a4e34af0131e6d77ed35d": {
      "model_module": "@jupyter-widgets/controls",
      "model_module_version": "2.0.0",
      "model_name": "DropdownModel",
      "state": {
       "_options_labels": [
        "Left",
        "Right"
       ],
       "description": "Leg:",
       "index": 1,
       "layout": "IPY_MODEL_422b08bb81a74c20bd4b4650d15ed493",
       "style": "IPY_MODEL_9ad5fc92a05f4723a1688c464901cf19"
      }
     },
     "222dfe76b98c4d03a0e38cf0af0adfdd": {
      "model_module": "@jupyter-widgets/controls",
      "model_module_version": "2.0.0",
      "model_name": "DropdownModel",
      "state": {
       "_options_labels": [
        "Ankle",
        "Knee",
        "Hip"
       ],
       "description": "Joint:",
       "index": null,
       "layout": "IPY_MODEL_9491e6155c724326b3d5ff8c6033b943",
       "style": "IPY_MODEL_eab6ee9372a14edfa8a3f836a30ddccc"
      }
     },
     "23f8b2dd7c0348c491c33b069fe95853": {
      "model_module": "@jupyter-widgets/controls",
      "model_module_version": "2.0.0",
      "model_name": "FloatSliderModel",
      "state": {
       "behavior": "drag-tap",
       "description": "FNN Threshold:",
       "layout": "IPY_MODEL_8554100c10f54efa801c5e9241854936",
       "max": 0.2,
       "min": 0.01,
       "step": 0.01,
       "style": "IPY_MODEL_a519a28011cf4226bbe1edcc0e568b87",
       "value": 0.09999999999999999
      }
     },
     "251970351a1f4331b6026d8d8d957352": {
      "model_module": "@jupyter-widgets/controls",
      "model_module_version": "2.0.0",
      "model_name": "FloatSliderModel",
      "state": {
       "behavior": "drag-tap",
       "description": "FNN Threshold:",
       "layout": "IPY_MODEL_dd8a7bd1b60a4c9d86f95803fa1491a8",
       "max": 0.2,
       "min": 0.01,
       "step": 0.01,
       "style": "IPY_MODEL_98be767730e14a46bc1eec191b35517f",
       "value": 0.09999999999999999
      }
     },
     "258f73675fa64f5ba7decdd6fb0abba5": {
      "model_module": "@jupyter-widgets/controls",
      "model_module_version": "2.0.0",
      "model_name": "SliderStyleModel",
      "state": {
       "description_width": ""
      }
     },
     "28a0e61f73c94fee8cc78e9df0eea30b": {
      "model_module": "@jupyter-widgets/controls",
      "model_module_version": "2.0.0",
      "model_name": "SliderStyleModel",
      "state": {
       "description_width": ""
      }
     },
     "2d5faab2d39d428dbae2053959d1f06f": {
      "model_module": "@jupyter-widgets/controls",
      "model_module_version": "2.0.0",
      "model_name": "DescriptionStyleModel",
      "state": {
       "description_width": ""
      }
     },
     "2e88f61ad3bb4f91ac062b98b819a33f": {
      "model_module": "@jupyter-widgets/base",
      "model_module_version": "2.0.0",
      "model_name": "LayoutModel",
      "state": {}
     },
     "326bb03fa6174d1887ea94e6f1eabb29": {
      "model_module": "@jupyter-widgets/base",
      "model_module_version": "2.0.0",
      "model_name": "LayoutModel",
      "state": {}
     },
     "347f4d764eac438dbc168d79d097a92c": {
      "model_module": "@jupyter-widgets/base",
      "model_module_version": "2.0.0",
      "model_name": "LayoutModel",
      "state": {}
     },
     "38680f317bb649c3803d68872a68b5fd": {
      "model_module": "@jupyter-widgets/controls",
      "model_module_version": "2.0.0",
      "model_name": "DropdownModel",
      "state": {
       "_options_labels": [
        "Ankle",
        "Knee",
        "Hip"
       ],
       "description": "Joint:",
       "index": 1,
       "layout": "IPY_MODEL_7e477d588a0c46c6857176e45674beef",
       "style": "IPY_MODEL_6779e54515b64539935fe2daa0bab9fd"
      }
     },
     "3904ec83adf04928ab9a724f88da7241": {
      "model_module": "@jupyter-widgets/base",
      "model_module_version": "2.0.0",
      "model_name": "LayoutModel",
      "state": {}
     },
     "39ee195904a04520b0a0bc1242adc85e": {
      "model_module": "@jupyter-widgets/base",
      "model_module_version": "2.0.0",
      "model_name": "LayoutModel",
      "state": {}
     },
     "3fd149273f7449cabe2bbd52eb3dd2a5": {
      "model_module": "@jupyter-widgets/base",
      "model_module_version": "2.0.0",
      "model_name": "LayoutModel",
      "state": {}
     },
     "422b08bb81a74c20bd4b4650d15ed493": {
      "model_module": "@jupyter-widgets/base",
      "model_module_version": "2.0.0",
      "model_name": "LayoutModel",
      "state": {}
     },
     "46e344c14ff943b7962388cd1c9bf9f7": {
      "model_module": "@jupyter-widgets/controls",
      "model_module_version": "2.0.0",
      "model_name": "DescriptionStyleModel",
      "state": {
       "description_width": ""
      }
     },
     "49c1648965064164bdc0054a98dc551d": {
      "model_module": "@jupyter-widgets/controls",
      "model_module_version": "2.0.0",
      "model_name": "DescriptionStyleModel",
      "state": {
       "description_width": ""
      }
     },
     "4cb3203cc1f541ca9481fafdde3c9520": {
      "model_module": "@jupyter-widgets/controls",
      "model_module_version": "2.0.0",
      "model_name": "ButtonModel",
      "state": {
       "description": "Run Analysis",
       "layout": "IPY_MODEL_f2cd8d08e56a4ee6866d2201420ba84a",
       "style": "IPY_MODEL_0ec04779445745d68edaeef6e0ab20d5",
       "tooltip": null
      }
     },
     "56cafefb3b74456f89b6ca94a9f7ffbc": {
      "model_module": "@jupyter-widgets/base",
      "model_module_version": "2.0.0",
      "model_name": "LayoutModel",
      "state": {}
     },
     "618fe9b84e894018bd8fd8b7015877c4": {
      "model_module": "@jupyter-widgets/controls",
      "model_module_version": "2.0.0",
      "model_name": "FloatSliderModel",
      "state": {
       "behavior": "drag-tap",
       "description": "FNN Threshold:",
       "layout": "IPY_MODEL_8bd506e871974629808d4284c5c52aa5",
       "max": 0.2,
       "min": 0.01,
       "step": 0.01,
       "style": "IPY_MODEL_dfc8b7f2cbb345fe8bb9e24083565481",
       "value": 0.09999999999999999
      }
     },
     "62603813007c4cc5961581435a4d178b": {
      "model_module": "@jupyter-widgets/base",
      "model_module_version": "2.0.0",
      "model_name": "LayoutModel",
      "state": {}
     },
     "63ba1d0416e440b48f4f7f250bed72a4": {
      "model_module": "@jupyter-widgets/base",
      "model_module_version": "2.0.0",
      "model_name": "LayoutModel",
      "state": {}
     },
     "648c8415d16643c4bc6f1eaa1e72f99b": {
      "model_module": "@jupyter-widgets/controls",
      "model_module_version": "2.0.0",
      "model_name": "DropdownModel",
      "state": {
       "_options_labels": [
        "1",
        "2",
        "3",
        "4",
        "5",
        "6",
        "7",
        "8",
        "9",
        "10"
       ],
       "description": "Subject:",
       "index": 0,
       "layout": "IPY_MODEL_62603813007c4cc5961581435a4d178b",
       "style": "IPY_MODEL_ab3ab9d8536b4af8a9377046c2bdb69a"
      }
     },
     "6779e54515b64539935fe2daa0bab9fd": {
      "model_module": "@jupyter-widgets/controls",
      "model_module_version": "2.0.0",
      "model_name": "DescriptionStyleModel",
      "state": {
       "description_width": ""
      }
     },
     "6d007dbb1fc74b61b23b084d1d81b782": {
      "model_module": "@jupyter-widgets/controls",
      "model_module_version": "2.0.0",
      "model_name": "ButtonModel",
      "state": {
       "description": "Run Analysis",
       "layout": "IPY_MODEL_03cf99eca7d94c1fa0fc1fc2564c3a46",
       "style": "IPY_MODEL_00be1c1a0682400abe779affc6bf2219",
       "tooltip": null
      }
     },
     "708606fcec35404383afbe131948de1d": {
      "model_module": "@jupyter-widgets/controls",
      "model_module_version": "2.0.0",
      "model_name": "SliderStyleModel",
      "state": {
       "description_width": ""
      }
     },
     "71a944c0fc2b48e5bd7ac351df5e2432": {
      "model_module": "@jupyter-widgets/base",
      "model_module_version": "2.0.0",
      "model_name": "LayoutModel",
      "state": {}
     },
     "750649b1834f491990f8a99524a5640c": {
      "model_module": "@jupyter-widgets/controls",
      "model_module_version": "2.0.0",
      "model_name": "FloatSliderModel",
      "state": {
       "behavior": "drag-tap",
       "description": "RP Threshold:",
       "layout": "IPY_MODEL_e95ceda20be242078d641eabc43e3df4",
       "max": 1,
       "min": 0.1,
       "step": 0.01,
       "style": "IPY_MODEL_258f73675fa64f5ba7decdd6fb0abba5",
       "value": 0.25
      }
     },
     "76fddc63b76b42f78fb4f43f4180d678": {
      "model_module": "@jupyter-widgets/controls",
      "model_module_version": "2.0.0",
      "model_name": "ButtonModel",
      "state": {
       "description": "Run Analysis",
       "layout": "IPY_MODEL_e1807855dc384df0a944795f4697967d",
       "style": "IPY_MODEL_e0b25e72b38240ec81d031a48a3e315b",
       "tooltip": null
      }
     },
     "77f6a06d548c495794aede95d32cfaec": {
      "model_module": "@jupyter-widgets/controls",
      "model_module_version": "2.0.0",
      "model_name": "SliderStyleModel",
      "state": {
       "description_width": ""
      }
     },
     "7e477d588a0c46c6857176e45674beef": {
      "model_module": "@jupyter-widgets/base",
      "model_module_version": "2.0.0",
      "model_name": "LayoutModel",
      "state": {}
     },
     "81442a70403e4b3bad265a955b8110aa": {
      "model_module": "@jupyter-widgets/controls",
      "model_module_version": "2.0.0",
      "model_name": "IntSliderModel",
      "state": {
       "behavior": "drag-tap",
       "description": "Max Dim:",
       "layout": "IPY_MODEL_347f4d764eac438dbc168d79d097a92c",
       "max": 20,
       "min": 1,
       "style": "IPY_MODEL_77f6a06d548c495794aede95d32cfaec",
       "value": 10
      }
     },
     "8351d431d33344bba8432892172458b0": {
      "model_module": "@jupyter-widgets/base",
      "model_module_version": "2.0.0",
      "model_name": "LayoutModel",
      "state": {}
     },
     "83d129fbe3934ee8b5fe3f1bff11dd9f": {
      "model_module": "@jupyter-widgets/controls",
      "model_module_version": "2.0.0",
      "model_name": "DropdownModel",
      "state": {
       "_options_labels": [
        "1",
        "2",
        "3",
        "4",
        "5",
        "6",
        "7",
        "8",
        "9",
        "10"
       ],
       "description": "Subject:",
       "index": 0,
       "layout": "IPY_MODEL_39ee195904a04520b0a0bc1242adc85e",
       "style": "IPY_MODEL_88dc09661b08401eb985ba1393537b20"
      }
     },
     "8554100c10f54efa801c5e9241854936": {
      "model_module": "@jupyter-widgets/base",
      "model_module_version": "2.0.0",
      "model_name": "LayoutModel",
      "state": {}
     },
     "88dc09661b08401eb985ba1393537b20": {
      "model_module": "@jupyter-widgets/controls",
      "model_module_version": "2.0.0",
      "model_name": "DescriptionStyleModel",
      "state": {
       "description_width": ""
      }
     },
     "8bd506e871974629808d4284c5c52aa5": {
      "model_module": "@jupyter-widgets/base",
      "model_module_version": "2.0.0",
      "model_name": "LayoutModel",
      "state": {}
     },
     "8d3c9970e0a147eabdf7b0f6812dc814": {
      "model_module": "@jupyter-widgets/controls",
      "model_module_version": "2.0.0",
      "model_name": "DescriptionStyleModel",
      "state": {
       "description_width": ""
      }
     },
     "8f67ed38e19241618c81669e26b947dc": {
      "model_module": "@jupyter-widgets/controls",
      "model_module_version": "2.0.0",
      "model_name": "SliderStyleModel",
      "state": {
       "description_width": ""
      }
     },
     "9067dc7b1b684a8f935d3245d8dbb23e": {
      "model_module": "@jupyter-widgets/controls",
      "model_module_version": "2.0.0",
      "model_name": "SliderStyleModel",
      "state": {
       "description_width": ""
      }
     },
     "92a930c207c84513bd1dc253d99ec52b": {
      "model_module": "@jupyter-widgets/base",
      "model_module_version": "2.0.0",
      "model_name": "LayoutModel",
      "state": {}
     },
     "9491e6155c724326b3d5ff8c6033b943": {
      "model_module": "@jupyter-widgets/base",
      "model_module_version": "2.0.0",
      "model_name": "LayoutModel",
      "state": {}
     },
     "98be767730e14a46bc1eec191b35517f": {
      "model_module": "@jupyter-widgets/controls",
      "model_module_version": "2.0.0",
      "model_name": "SliderStyleModel",
      "state": {
       "description_width": ""
      }
     },
     "994d98a9a71f40a4acd095d2f7accfa4": {
      "model_module": "@jupyter-widgets/controls",
      "model_module_version": "2.0.0",
      "model_name": "IntSliderModel",
      "state": {
       "behavior": "drag-tap",
       "description": "Max Dim:",
       "layout": "IPY_MODEL_63ba1d0416e440b48f4f7f250bed72a4",
       "max": 20,
       "min": 1,
       "style": "IPY_MODEL_9067dc7b1b684a8f935d3245d8dbb23e",
       "value": 10
      }
     },
     "9a9d2b2a5e0e4404b415669ebb2ca513": {
      "model_module": "@jupyter-widgets/base",
      "model_module_version": "2.0.0",
      "model_name": "LayoutModel",
      "state": {}
     },
     "9ad5fc92a05f4723a1688c464901cf19": {
      "model_module": "@jupyter-widgets/controls",
      "model_module_version": "2.0.0",
      "model_name": "DescriptionStyleModel",
      "state": {
       "description_width": ""
      }
     },
     "a519a28011cf4226bbe1edcc0e568b87": {
      "model_module": "@jupyter-widgets/controls",
      "model_module_version": "2.0.0",
      "model_name": "SliderStyleModel",
      "state": {
       "description_width": ""
      }
     },
     "ab3ab9d8536b4af8a9377046c2bdb69a": {
      "model_module": "@jupyter-widgets/controls",
      "model_module_version": "2.0.0",
      "model_name": "DescriptionStyleModel",
      "state": {
       "description_width": ""
      }
     },
     "ac014e585a5b4411b7aff6efd8b5b69a": {
      "model_module": "@jupyter-widgets/controls",
      "model_module_version": "2.0.0",
      "model_name": "IntSliderModel",
      "state": {
       "behavior": "drag-tap",
       "description": "Max Lag:",
       "layout": "IPY_MODEL_56cafefb3b74456f89b6ca94a9f7ffbc",
       "min": 10,
       "style": "IPY_MODEL_08e7736e136b469b99d505ce3cabb23a",
       "value": 50
      }
     },
     "ae80afb128bf420995aa6c88564d2ca8": {
      "model_module": "@jupyter-widgets/controls",
      "model_module_version": "2.0.0",
      "model_name": "FloatSliderModel",
      "state": {
       "behavior": "drag-tap",
       "description": "RP Threshold:",
       "layout": "IPY_MODEL_92a930c207c84513bd1dc253d99ec52b",
       "max": 1,
       "min": 0.1,
       "step": 0.01,
       "style": "IPY_MODEL_fd33d486f44548678f7a2fdf9063a607",
       "value": 0.25
      }
     },
     "b306b05a4bbd465f917991bf06a5d0f9": {
      "model_module": "@jupyter-widgets/controls",
      "model_module_version": "2.0.0",
      "model_name": "IntSliderModel",
      "state": {
       "behavior": "drag-tap",
       "description": "Max Lag:",
       "layout": "IPY_MODEL_bc6a92d427cc4b7692a6e3a194bdad6f",
       "min": 10,
       "style": "IPY_MODEL_8f67ed38e19241618c81669e26b947dc",
       "value": 50
      }
     },
     "b7f5d8726f5e49919ad67b2af04ab61d": {
      "model_module": "@jupyter-widgets/controls",
      "model_module_version": "2.0.0",
      "model_name": "DropdownModel",
      "state": {
       "_options_labels": [
        "Ankle",
        "Knee",
        "Hip"
       ],
       "description": "Joint:",
       "index": 1,
       "layout": "IPY_MODEL_2e88f61ad3bb4f91ac062b98b819a33f",
       "style": "IPY_MODEL_2d5faab2d39d428dbae2053959d1f06f"
      }
     },
     "bc6a92d427cc4b7692a6e3a194bdad6f": {
      "model_module": "@jupyter-widgets/base",
      "model_module_version": "2.0.0",
      "model_name": "LayoutModel",
      "state": {}
     },
     "c50e0fc6fcf04d0882d2979307ef01b9": {
      "model_module": "@jupyter-widgets/controls",
      "model_module_version": "2.0.0",
      "model_name": "SliderStyleModel",
      "state": {
       "description_width": ""
      }
     },
     "c990b3ee12d64bddac9eaee43603fa5c": {
      "model_module": "@jupyter-widgets/controls",
      "model_module_version": "2.0.0",
      "model_name": "DescriptionStyleModel",
      "state": {
       "description_width": ""
      }
     },
     "ca6c9c3f337741ea84d2219d5b17dfac": {
      "model_module": "@jupyter-widgets/base",
      "model_module_version": "2.0.0",
      "model_name": "LayoutModel",
      "state": {}
     },
     "ccc2880324a347eaa8c5f9e4051f410a": {
      "model_module": "@jupyter-widgets/controls",
      "model_module_version": "2.0.0",
      "model_name": "DropdownModel",
      "state": {
       "_options_labels": [
        "Unbraced",
        "Knee Brace",
        "Ankle Brace"
       ],
       "description": "Condition:",
       "index": 0,
       "layout": "IPY_MODEL_326bb03fa6174d1887ea94e6f1eabb29",
       "style": "IPY_MODEL_49c1648965064164bdc0054a98dc551d"
      }
     },
     "dd0d4ceec4c644508b050cfb78d9f721": {
      "model_module": "@jupyter-widgets/base",
      "model_module_version": "2.0.0",
      "model_name": "LayoutModel",
      "state": {}
     },
     "dd4da754b9a04f82a3e6970de8b97e08": {
      "model_module": "@jupyter-widgets/base",
      "model_module_version": "2.0.0",
      "model_name": "LayoutModel",
      "state": {}
     },
     "dd8a7bd1b60a4c9d86f95803fa1491a8": {
      "model_module": "@jupyter-widgets/base",
      "model_module_version": "2.0.0",
      "model_name": "LayoutModel",
      "state": {}
     },
     "dfc8b7f2cbb345fe8bb9e24083565481": {
      "model_module": "@jupyter-widgets/controls",
      "model_module_version": "2.0.0",
      "model_name": "SliderStyleModel",
      "state": {
       "description_width": ""
      }
     },
     "e02813e5d704450781f1b9e79f2f17aa": {
      "model_module": "@jupyter-widgets/controls",
      "model_module_version": "2.0.0",
      "model_name": "DropdownModel",
      "state": {
       "_options_labels": [
        "Left",
        "Right"
       ],
       "description": "Leg:",
       "index": null,
       "layout": "IPY_MODEL_dd0d4ceec4c644508b050cfb78d9f721",
       "style": "IPY_MODEL_c990b3ee12d64bddac9eaee43603fa5c"
      }
     },
     "e0b25e72b38240ec81d031a48a3e315b": {
      "model_module": "@jupyter-widgets/controls",
      "model_module_version": "2.0.0",
      "model_name": "ButtonStyleModel",
      "state": {
       "font_family": null,
       "font_size": null,
       "font_style": null,
       "font_variant": null,
       "font_weight": null,
       "text_color": null,
       "text_decoration": null
      }
     },
     "e1807855dc384df0a944795f4697967d": {
      "model_module": "@jupyter-widgets/base",
      "model_module_version": "2.0.0",
      "model_name": "LayoutModel",
      "state": {}
     },
     "e1e2fe0cd82c40cdb8f79f6dadc126dc": {
      "model_module": "@jupyter-widgets/controls",
      "model_module_version": "2.0.0",
      "model_name": "IntSliderModel",
      "state": {
       "behavior": "drag-tap",
       "description": "Max Dim:",
       "layout": "IPY_MODEL_71a944c0fc2b48e5bd7ac351df5e2432",
       "max": 20,
       "min": 1,
       "style": "IPY_MODEL_708606fcec35404383afbe131948de1d",
       "value": 10
      }
     },
     "e95ceda20be242078d641eabc43e3df4": {
      "model_module": "@jupyter-widgets/base",
      "model_module_version": "2.0.0",
      "model_name": "LayoutModel",
      "state": {}
     },
     "eab6ee9372a14edfa8a3f836a30ddccc": {
      "model_module": "@jupyter-widgets/controls",
      "model_module_version": "2.0.0",
      "model_name": "DescriptionStyleModel",
      "state": {
       "description_width": ""
      }
     },
     "eac707d1dd444274b7a0e49752e7a381": {
      "model_module": "@jupyter-widgets/controls",
      "model_module_version": "2.0.0",
      "model_name": "DropdownModel",
      "state": {
       "_options_labels": [
        "1",
        "2",
        "3",
        "4",
        "5",
        "6",
        "7",
        "8",
        "9",
        "10"
       ],
       "description": "Subject:",
       "index": null,
       "layout": "IPY_MODEL_3fd149273f7449cabe2bbd52eb3dd2a5",
       "style": "IPY_MODEL_f3d338bb581847c4826b17d956a029c8"
      }
     },
     "ef23017ded624f71880e6c177e969570": {
      "model_module": "@jupyter-widgets/controls",
      "model_module_version": "2.0.0",
      "model_name": "DropdownModel",
      "state": {
       "_options_labels": [
        "Left",
        "Right"
       ],
       "description": "Leg:",
       "index": 1,
       "layout": "IPY_MODEL_dd4da754b9a04f82a3e6970de8b97e08",
       "style": "IPY_MODEL_46e344c14ff943b7962388cd1c9bf9f7"
      }
     },
     "f26e1833a6f14669bd73e2ba8433a39a": {
      "model_module": "@jupyter-widgets/controls",
      "model_module_version": "2.0.0",
      "model_name": "IntSliderModel",
      "state": {
       "behavior": "drag-tap",
       "description": "Max Lag:",
       "layout": "IPY_MODEL_8351d431d33344bba8432892172458b0",
       "min": 10,
       "style": "IPY_MODEL_c50e0fc6fcf04d0882d2979307ef01b9",
       "value": 50
      }
     },
     "f2cd8d08e56a4ee6866d2201420ba84a": {
      "model_module": "@jupyter-widgets/base",
      "model_module_version": "2.0.0",
      "model_name": "LayoutModel",
      "state": {}
     },
     "f3d338bb581847c4826b17d956a029c8": {
      "model_module": "@jupyter-widgets/controls",
      "model_module_version": "2.0.0",
      "model_name": "DescriptionStyleModel",
      "state": {
       "description_width": ""
      }
     },
     "f8d5fcb5695f442bb412198d233f1d51": {
      "model_module": "@jupyter-widgets/controls",
      "model_module_version": "2.0.0",
      "model_name": "DropdownModel",
      "state": {
       "_options_labels": [
        "Unbraced",
        "Knee Brace",
        "Ankle Brace"
       ],
       "description": "Condition:",
       "index": null,
       "layout": "IPY_MODEL_ca6c9c3f337741ea84d2219d5b17dfac",
       "style": "IPY_MODEL_0ff3b4c646b44bcdb28464edaf096881"
      }
     },
     "fd33d486f44548678f7a2fdf9063a607": {
      "model_module": "@jupyter-widgets/controls",
      "model_module_version": "2.0.0",
      "model_name": "SliderStyleModel",
      "state": {
       "description_width": ""
      }
     }
    },
    "version_major": 2,
    "version_minor": 0
   }
  }
 },
 "nbformat": 4,
 "nbformat_minor": 5
}
